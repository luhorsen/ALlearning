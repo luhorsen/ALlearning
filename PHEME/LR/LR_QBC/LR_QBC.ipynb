{
 "cells": [
  {
   "cell_type": "code",
   "execution_count": 1,
   "id": "40881b47",
   "metadata": {},
   "outputs": [
    {
     "name": "stdout",
     "output_type": "stream",
     "text": [
      "\n",
      "| round | initially labeled data | number of queries | cost | Performance: |\n",
      "|   0   |    9 (0.29% of all)    |         3         |  0   | 0.688 ± 0.02 |"
     ]
    },
    {
     "name": "stderr",
     "output_type": "stream",
     "text": [
      "WARNING: class label 1 specified in weight is not found\n"
     ]
    },
    {
     "name": "stdout",
     "output_type": "stream",
     "text": [
      "|   0   |    9 (0.29% of all)    |         7         |  0   | 0.702 ± 0.02 |"
     ]
    },
    {
     "name": "stderr",
     "output_type": "stream",
     "text": [
      "WARNING: class label 1 specified in weight is not found\n",
      "WARNING: class label 1 specified in weight is not found\n"
     ]
    },
    {
     "name": "stdout",
     "output_type": "stream",
     "text": [
      "|   0   |    9 (0.29% of all)    |         10        |  0   | 0.704 ± 0.01 |"
     ]
    },
    {
     "name": "stderr",
     "output_type": "stream",
     "text": [
      "WARNING: class label 1 specified in weight is not found\n"
     ]
    },
    {
     "name": "stdout",
     "output_type": "stream",
     "text": [
      "|   0   |    9 (0.29% of all)    |        200        |  0   | 0.707 ± 0.01 |\n",
      "| round | initially labeled data | number of queries | cost | Performance: |\n",
      "|   1   |    9 (0.29% of all)    |        200        |  0   | 0.705 ± 0.06 |\n",
      "| round | initially labeled data | number of queries | cost | Performance: |\n",
      "|   2   |    9 (0.29% of all)    |        200        |  0   | 0.697 ± 0.03 |\n",
      "| round | initially labeled data | number of queries | cost | Performance: |\n",
      "|   3   |    9 (0.29% of all)    |         2         |  0   | 0.718 ± 0.00 |"
     ]
    },
    {
     "name": "stderr",
     "output_type": "stream",
     "text": [
      "WARNING: class label 1 specified in weight is not found\n",
      "WARNING: class label 1 specified in weight is not found\n",
      "WARNING: class label 1 specified in weight is not found\n",
      "WARNING: class label 1 specified in weight is not found\n",
      "WARNING: class label 1 specified in weight is not found\n",
      "WARNING: class label 1 specified in weight is not found\n",
      "WARNING: class label 1 specified in weight is not found\n",
      "WARNING: class label 1 specified in weight is not found\n",
      "WARNING: class label 1 specified in weight is not found\n",
      "WARNING: class label 1 specified in weight is not found\n"
     ]
    },
    {
     "name": "stdout",
     "output_type": "stream",
     "text": [
      "|   3   |    9 (0.29% of all)    |         5         |  0   | 0.713 ± 0.01 |"
     ]
    },
    {
     "name": "stderr",
     "output_type": "stream",
     "text": [
      "WARNING: class label 1 specified in weight is not found\n",
      "WARNING: class label 1 specified in weight is not found\n",
      "WARNING: class label 1 specified in weight is not found\n",
      "WARNING: class label 1 specified in weight is not found\n",
      "WARNING: class label 1 specified in weight is not found\n",
      "WARNING: class label 1 specified in weight is not found\n",
      "WARNING: class label 1 specified in weight is not found\n"
     ]
    },
    {
     "name": "stdout",
     "output_type": "stream",
     "text": [
      "|   3   |    9 (0.29% of all)    |         12        |  0   | 0.697 ± 0.02 |"
     ]
    },
    {
     "name": "stderr",
     "output_type": "stream",
     "text": [
      "WARNING: class label 1 specified in weight is not found\n",
      "WARNING: class label 1 specified in weight is not found\n"
     ]
    },
    {
     "name": "stdout",
     "output_type": "stream",
     "text": [
      "|   3   |    9 (0.29% of all)    |        200        |  0   | 0.716 ± 0.01 |\n",
      "| round | initially labeled data | number of queries | cost | Performance: |\n",
      "|   4   |    9 (0.29% of all)    |         2         |  0   | 0.724 ± 0.00 |"
     ]
    },
    {
     "name": "stderr",
     "output_type": "stream",
     "text": [
      "WARNING: class label 1 specified in weight is not found\n",
      "WARNING: class label 1 specified in weight is not found\n",
      "WARNING: class label 1 specified in weight is not found\n",
      "WARNING: class label 1 specified in weight is not found\n",
      "WARNING: class label 1 specified in weight is not found\n",
      "WARNING: class label 1 specified in weight is not found\n",
      "WARNING: class label 1 specified in weight is not found\n",
      "WARNING: class label 1 specified in weight is not found\n",
      "WARNING: class label 1 specified in weight is not found\n",
      "WARNING: class label 1 specified in weight is not found\n",
      "WARNING: class label 1 specified in weight is not found\n",
      "WARNING: class label 1 specified in weight is not found\n"
     ]
    },
    {
     "name": "stdout",
     "output_type": "stream",
     "text": [
      "|   4   |    9 (0.29% of all)    |         6         |  0   | 0.723 ± 0.00 |"
     ]
    },
    {
     "name": "stderr",
     "output_type": "stream",
     "text": [
      "WARNING: class label 1 specified in weight is not found\n",
      "WARNING: class label 1 specified in weight is not found\n",
      "WARNING: class label 1 specified in weight is not found\n",
      "WARNING: class label 1 specified in weight is not found\n"
     ]
    },
    {
     "name": "stdout",
     "output_type": "stream",
     "text": [
      "|   4   |    9 (0.29% of all)    |         10        |  0   | 0.723 ± 0.00 |"
     ]
    },
    {
     "name": "stderr",
     "output_type": "stream",
     "text": [
      "WARNING: class label 1 specified in weight is not found\n",
      "WARNING: class label 1 specified in weight is not found\n"
     ]
    },
    {
     "name": "stdout",
     "output_type": "stream",
     "text": [
      "|   4   |    9 (0.29% of all)    |         12        |  0   | 0.723 ± 0.00 |"
     ]
    },
    {
     "name": "stderr",
     "output_type": "stream",
     "text": [
      "WARNING: class label 1 specified in weight is not found\n",
      "WARNING: class label 1 specified in weight is not found\n"
     ]
    },
    {
     "name": "stdout",
     "output_type": "stream",
     "text": [
      "|   4   |    9 (0.29% of all)    |         15        |  0   | 0.723 ± 0.00 |"
     ]
    },
    {
     "name": "stderr",
     "output_type": "stream",
     "text": [
      "WARNING: class label 1 specified in weight is not found\n",
      "WARNING: class label 1 specified in weight is not found\n",
      "WARNING: class label 1 specified in weight is not found\n"
     ]
    },
    {
     "name": "stdout",
     "output_type": "stream",
     "text": [
      "|   4   |    9 (0.29% of all)    |         18        |  0   | 0.723 ± 0.00 |"
     ]
    },
    {
     "name": "stderr",
     "output_type": "stream",
     "text": [
      "WARNING: class label 1 specified in weight is not found\n",
      "WARNING: class label 1 specified in weight is not found\n",
      "WARNING: class label 1 specified in weight is not found\n"
     ]
    },
    {
     "name": "stdout",
     "output_type": "stream",
     "text": [
      "|   4   |    9 (0.29% of all)    |         21        |  0   | 0.723 ± 0.00 |"
     ]
    },
    {
     "name": "stderr",
     "output_type": "stream",
     "text": [
      "WARNING: class label 1 specified in weight is not found\n"
     ]
    },
    {
     "name": "stdout",
     "output_type": "stream",
     "text": [
      "|   4   |    9 (0.29% of all)    |        200        |  0   | 0.724 ± 0.00 |\n",
      "| round | initially labeled data | number of queries | cost | Performance: |\n",
      "|   5   |    9 (0.29% of all)    |         12        |  0   | 0.681 ± 0.05 |"
     ]
    },
    {
     "name": "stderr",
     "output_type": "stream",
     "text": [
      "WARNING: class label 1 specified in weight is not found\n"
     ]
    },
    {
     "name": "stdout",
     "output_type": "stream",
     "text": [
      "|   5   |    9 (0.29% of all)    |        200        |  0   | 0.719 ± 0.02 |\n",
      "| round | initially labeled data | number of queries | cost | Performance: |\n",
      "|   6   |    9 (0.29% of all)    |        200        |  0   | 0.704 ± 0.03 |\n",
      "| round | initially labeled data | number of queries | cost | Performance: |\n",
      "|   7   |    9 (0.29% of all)    |         2         |  0   | 0.700 ± 0.01 |"
     ]
    },
    {
     "name": "stderr",
     "output_type": "stream",
     "text": [
      "WARNING: class label 1 specified in weight is not found\n",
      "WARNING: class label 1 specified in weight is not found\n",
      "WARNING: class label 1 specified in weight is not found\n",
      "WARNING: class label 1 specified in weight is not found\n",
      "WARNING: class label 1 specified in weight is not found\n",
      "WARNING: class label 1 specified in weight is not found\n"
     ]
    },
    {
     "name": "stdout",
     "output_type": "stream",
     "text": [
      "|   7   |    9 (0.29% of all)    |         8         |  0   | 0.682 ± 0.02 |"
     ]
    },
    {
     "name": "stderr",
     "output_type": "stream",
     "text": [
      "WARNING: class label 1 specified in weight is not found\n"
     ]
    },
    {
     "name": "stdout",
     "output_type": "stream",
     "text": [
      "|   7   |    9 (0.29% of all)    |         16        |  0   | 0.694 ± 0.02 |"
     ]
    },
    {
     "name": "stderr",
     "output_type": "stream",
     "text": [
      "WARNING: class label 1 specified in weight is not found\n"
     ]
    },
    {
     "name": "stdout",
     "output_type": "stream",
     "text": [
      "|   7   |    9 (0.29% of all)    |        200        |  0   | 0.713 ± 0.01 |\n",
      "| round | initially labeled data | number of queries | cost | Performance: |\n",
      "|   8   |    9 (0.29% of all)    |         2         |  0   | 0.717 ± 0.01 |"
     ]
    },
    {
     "name": "stderr",
     "output_type": "stream",
     "text": [
      "WARNING: class label 1 specified in weight is not found\n",
      "WARNING: class label 1 specified in weight is not found\n",
      "WARNING: class label 1 specified in weight is not found\n",
      "WARNING: class label 1 specified in weight is not found\n",
      "WARNING: class label 1 specified in weight is not found\n",
      "WARNING: class label 1 specified in weight is not found\n",
      "WARNING: class label 1 specified in weight is not found\n"
     ]
    },
    {
     "name": "stdout",
     "output_type": "stream",
     "text": [
      "|   8   |    9 (0.29% of all)    |         5         |  0   | 0.719 ± 0.01 |"
     ]
    },
    {
     "name": "stderr",
     "output_type": "stream",
     "text": [
      "WARNING: class label 1 specified in weight is not found\n",
      "WARNING: class label 1 specified in weight is not found\n",
      "WARNING: class label 1 specified in weight is not found\n",
      "WARNING: class label 1 specified in weight is not found\n",
      "WARNING: class label 1 specified in weight is not found\n"
     ]
    },
    {
     "name": "stdout",
     "output_type": "stream",
     "text": [
      "|   8   |    9 (0.29% of all)    |        200        |  0   | 0.731 ± 0.01 |\n",
      "| round | initially labeled data | number of queries | cost | Performance: |\n",
      "|   9   |    9 (0.29% of all)    |         2         |  0   | 0.717 ± 0.02 |"
     ]
    },
    {
     "name": "stderr",
     "output_type": "stream",
     "text": [
      "WARNING: class label 1 specified in weight is not found\n",
      "WARNING: class label 1 specified in weight is not found\n",
      "WARNING: class label 1 specified in weight is not found\n",
      "WARNING: class label 1 specified in weight is not found\n"
     ]
    },
    {
     "name": "stdout",
     "output_type": "stream",
     "text": [
      "|   9   |    9 (0.29% of all)    |         9         |  0   | 0.724 ± 0.01 |"
     ]
    },
    {
     "name": "stderr",
     "output_type": "stream",
     "text": [
      "WARNING: class label 1 specified in weight is not found\n",
      "WARNING: class label 1 specified in weight is not found\n"
     ]
    },
    {
     "name": "stdout",
     "output_type": "stream",
     "text": [
      "|   9   |    9 (0.29% of all)    |        200        |  0   | 0.732 ± 0.01 |\n",
      "+---------------------+-------------------+---------------------------+--------------+------------+\n",
      "|       Methods       | number_of_queries | number_of_different_split | performance  | batch_size |\n",
      "+---------------------+-------------------+---------------------------+--------------+------------+\n",
      "| QueryInstanceRandom |        200        |             10            | 0.714 ± 0.01 |     1      |\n",
      "+---------------------+-------------------+---------------------------+--------------+------------+\n"
     ]
    },
    {
     "data": {
      "image/png": "[encoded data removed]",
      "text/plain": [
       "<Figure size 640x480 with 1 Axes>"
      ]
     },
     "metadata": {},
     "output_type": "display_data"
    }
   ],
   "source": [
    "import copy\n",
    "import json\n",
    "import pandas as pd\n",
    "import numpy as np\n",
    "from sklearn.preprocessing import MinMaxScaler\n",
    "import time\n",
    "from sklearn.neighbors import KNeighborsClassifier\n",
    "from sklearn.datasets import make_classification\n",
    "\n",
    "from alipy import ToolBox\n",
    "\n",
    "# X, y = make_classification(n_samples=500, n_features=10, n_informative=5, n_redundant=2,\n",
    "#                            n_repeated=0, n_classes=2, n_clusters_per_class=2, weights=None, flip_y=0.01, class_sep=1.0,\n",
    "#                            hypercube=True, shift=0.0, scale=1.0, shuffle=True, random_state=None)\n",
    "\n",
    "\n",
    "with open(\n",
    "    \"/home/yf/PyAL/PHEME/PHEME.json\",\n",
    "    \"r\",\n",
    ") as file:\n",
    "    data = json.load(file)\n",
    "features = []\n",
    "labels = []\n",
    "\n",
    "for entry in data:\n",
    "    feature = entry[\"feature\"]\n",
    "    label = int(entry[\"label\"])\n",
    "    features.append(feature)\n",
    "    labels.append(label)\n",
    "\n",
    "# 创建数据集\n",
    "dataset = pd.DataFrame(features)\n",
    "dataset[\"label\"] = labels\n",
    "X = dataset.drop(\"label\", axis=1)\n",
    "y = dataset[\"label\"]\n",
    "# 特征正则化处理\n",
    "\n",
    "features_to_normalize = [\n",
    "    \"Length_of_Characters\",\n",
    "    \"Number_of_Words\",\n",
    "    \"User_Registration_Age\",\n",
    "    \"Number_Of_Followers\",\n",
    "    \"Statuses_Count\",\n",
    "    \"Number_Of_Friends\",\n",
    "]\n",
    "scaler = MinMaxScaler()\n",
    "X[features_to_normalize] = scaler.fit_transform(X[features_to_normalize])\n",
    "# scaler = Normalizer()\n",
    "X_scaled = scaler.fit_transform(X)\n",
    "y = np.array(y)\n",
    "# 准备数据集，假设您的特征数据保存在X变量中，目标变量保存在y变量中\n",
    "X = np.array(X)  # 特征数据\n",
    "\n",
    "\n",
    "alibox = ToolBox(X=X, y=y, query_type=\"AllLabels\", saving_path=\"./\")\n",
    "\n",
    "# Split data\n",
    "alibox.split_AL(\n",
    "    test_ratio=0.3, initial_label_rate=0.003, split_count=10, all_class=True\n",
    ")\n",
    "\n",
    "# Use the default Logistic Regression classifier\n",
    "# model = alibox.get_default_model()\n",
    "model = alibox.get_default_model()\n",
    "\n",
    "# The cost budget is 50 times querying\n",
    "stopping_criterion = alibox.get_stopping_criterion(\"num_of_queries\", 200)\n",
    "\n",
    "# Use pre-defined strategy\n",
    "uncertainStrategy = alibox.get_query_strategy(strategy_name=\"QueryInstanceQBC\")\n",
    "unc_result = []\n",
    "\n",
    "for round_exp in range(10):\n",
    "    # Get the data split of one fold experiment\n",
    "    train_idx, test_idx, label_ind, unlab_ind = alibox.get_split(round_exp)\n",
    "    # Get intermediate results saver for one fold experiment\n",
    "    saver = alibox.get_stateio(round_exp)\n",
    "\n",
    "    # Set initial performance point\n",
    "    model.fit(X=X[label_ind.index, :], y=y[label_ind.index])\n",
    "    pred = model.predict(X[test_idx, :])\n",
    "    accuracy = alibox.calc_performance_metric(\n",
    "        y_true=y[test_idx], y_pred=pred, performance_metric=\"accuracy_score\"\n",
    "    )\n",
    "    saver.set_initial_point(accuracy)\n",
    "\n",
    "    while not stopping_criterion.is_stop():\n",
    "        # Select a subset of Uind according to the query strategy\n",
    "        # Passing any sklearn models with proba_predict method are ok\n",
    "        select_ind = uncertainStrategy.select(\n",
    "            label_ind, unlab_ind, model=model, batch_size=1\n",
    "        )\n",
    "        # or pass your proba predict result\n",
    "        # prob_pred = model.predict_proba(x[unlab_ind])\n",
    "        # select_ind = uncertainStrategy.select_by_prediction_mat(unlabel_index=unlab_ind, predict=prob_pred, batch_size=1)\n",
    "\n",
    "        label_ind.update(select_ind)\n",
    "        unlab_ind.difference_update(select_ind)\n",
    "\n",
    "        # Update model and calc performance according to the model you are using\n",
    "        model.fit(X=X[label_ind.index, :], y=y[label_ind.index])\n",
    "        pred = model.predict(X[test_idx, :])\n",
    "        accuracy = alibox.calc_performance_metric(\n",
    "            y_true=y[test_idx], y_pred=pred, performance_metric=\"accuracy_score\"\n",
    "        )\n",
    "\n",
    "        # Save intermediate results to file\n",
    "        st = alibox.State(select_index=select_ind, performance=accuracy)\n",
    "        saver.add_state(st)\n",
    "        saver.save()\n",
    "\n",
    "        # Passing the current progress to stopping criterion object\n",
    "        stopping_criterion.update_information(saver)\n",
    "    # Reset the progress in stopping criterion object\n",
    "    stopping_criterion.reset()\n",
    "    unc_result.append(copy.deepcopy(saver))\n",
    "\n",
    "analyser = alibox.get_experiment_analyser(x_axis=\"num_of_queries\")\n",
    "analyser.add_method(method_name=\"QueryInstanceRandom\", method_results=unc_result)\n",
    "\n",
    "print(analyser)\n",
    "analyser.plot_learning_curves(\n",
    "    title=\"Example of alipy\", std_area=False, saving_path=\"./\"\n",
    ")\n"
   ]
  },
  {
   "cell_type": "code",
   "execution_count": null,
   "id": "7ce0d4de",
   "metadata": {},
   "outputs": [],
   "source": []
  }
 ],
 "metadata": {
  "kernelspec": {
   "display_name": "Python 3 (ipykernel)",
   "language": "python",
   "name": "python3"
  },
  "language_info": {
   "codemirror_mode": {
    "name": "ipython",
    "version": 3
   },
   "file_extension": ".py",
   "mimetype": "text/x-python",
   "name": "python",
   "nbconvert_exporter": "python",
   "pygments_lexer": "ipython3",
   "version": "3.7.16"
  }
 },
 "nbformat": 4,
 "nbformat_minor": 5
}
