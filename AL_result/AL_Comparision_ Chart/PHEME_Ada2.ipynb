{
 "cells": [
  {
   "cell_type": "code",
   "execution_count": 1,
   "id": "8d14f0d2",
   "metadata": {},
   "outputs": [
    {
     "ename": "IndentationError",
     "evalue": "unexpected indent (2192898751.py, line 13)",
     "output_type": "error",
     "traceback": [
      "\u001b[0;36m  Cell \u001b[0;32mIn[1], line 13\u001b[0;36m\u001b[0m\n\u001b[0;31m    file_name = 'AL_round_' + str(i) + '.pkl'\u001b[0m\n\u001b[0m    ^\u001b[0m\n\u001b[0;31mIndentationError\u001b[0m\u001b[0;31m:\u001b[0m unexpected indent\n"
     ]
    }
   ],
   "source": [
    "import alipy\n",
    "from alipy import experiment\n",
    "from alipy.experiment import ExperimentAnalyser\n",
    "import os\n",
    "\n",
    "%config InlineBackend.figure_format='svg'#\n",
    "\n",
    "def load_models_folds(model, num_files,strategy,directory=None):\n",
    "    model_folds=[]\n",
    "    if directory is None:\n",
    "        directory='../../PHEME/'+str(model)+'/'+str(model)+'_'+str(strategy)\n",
    "    for i in range(num_files):AC\n",
    "        file_name = 'AL_round_' + str(i) + '.pkl'\n",
    "        file_path = os.path.join(directory, file_name)\n",
    "\n",
    "        if os.path.isfile(file_path):\n",
    "            # 这里可以对找到的文件进行操作或处理\n",
    "            file = alipy.experiment.StateIO.load(file_path)\n",
    "            model_folds.append(file)\n",
    "            print('找到文件:', file_path)\n",
    "        else:\n",
    "            print('未找到文件:', file_path)\n",
    "    return model_folds\n",
    "\n",
    "\n",
    "#加载策略folds\n",
    "DW_folds =load_models_folds(model='Ada', num_files=10,strategy='DW')\n",
    "GD_folds =load_models_folds(model='Ada', num_files=10,strategy=\"GD\")\n",
    "Unc_LC_folds =load_models_folds(model='Ada', num_files=10,strategy=\"Unc_LC\")\n",
    "Unc_Entropy_folds=load_models_folds(model='Ada', num_files=10,strategy=\"Unc_Entropy\")\n",
    "Unc_Margin_folds=load_models_folds(model='Ada', num_files=10,strategy=\"Unc_Margin\")\n",
    "#Rnd_folds =load_models_folds(model='Ada', num_files=10,strategy='Rnd')\n",
    "QBC_folds =load_models_folds(model='Ada', num_files=10,strategy=\"QBC\")\n",
    "ERR_folds =load_models_folds(model='Ada', num_files=10,strategy=\"ERR\")\n",
    "QUIRE_folds =load_models_folds(model='Ada', num_files=10,strategy=\"QUIRE\")\n",
    "\n",
    "#初始化StateIOContainer\n",
    "StateIOContainer_DW = alipy.experiment.StateIOContainer(method_name='DW', method_results=[])\n",
    "StateIOContainer_GD = alipy.experiment.StateIOContainer(method_name='GD', method_results=[])\n",
    "StateIOContainer_Unc_LC = alipy.experiment.StateIOContainer(method_name='Unc_LC', method_results=[])\n",
    "StateIOContainer_Unc_Entropy = alipy.experiment.StateIOContainer(method_name='Unc_Entropy', method_results=[])\n",
    "StateIOContainer_Unc_Margin = alipy.experiment.StateIOContainer(method_name='Unc_Margin', method_results=[])\n",
    "#StateIOContainer_Rnd = alipy.experiment.StateIOContainer(method_name='Rnd', method_results=[])\n",
    "StateIOContainer_QBC = alipy.experiment.StateIOContainer(method_name='QBC', method_results=[])\n",
    "StateIOContainer_ERR = alipy.experiment.StateIOContainer(method_name='ERR', method_results=[])\n",
    "StateIOContainer_QUIRE = alipy.experiment.StateIOContainer(method_name='QUIRE', method_results=[])\n",
    "#将folds装载进StateIOContainer\n",
    "alipy.experiment.StateIOContainer.add_folds(self=StateIOContainer_DW, folds=DW_folds)\n",
    "alipy.experiment.StateIOContainer.add_folds(self=StateIOContainer_GD, folds=GD_folds)\n",
    "alipy.experiment.StateIOContainer.add_folds(self=StateIOContainer_Unc_LC, folds=Unc_LC_folds)\n",
    "alipy.experiment.StateIOContainer.add_folds(self=StateIOContainer_Unc_Entropy, folds=Unc_Entropy_folds)\n",
    "alipy.experiment.StateIOContainer.add_folds(self=StateIOContainer_Unc_Margin, folds=Unc_Margin_folds)\n",
    "#alipy.experiment.StateIOContainer.add_folds(self=StateIOContainer_Rnd, folds=Rnd_folds)\n",
    "alipy.experiment.StateIOContainer.add_folds(self=StateIOContainer_QBC, folds=QBC_folds)\n",
    "alipy.experiment.StateIOContainer.add_folds(self=StateIOContainer_ERR, folds=ERR_folds)\n",
    "alipy.experiment.StateIOContainer.add_folds(self=StateIOContainer_QUIRE, folds=QUIRE_folds)\n",
    "\n",
    "#使用analyser分析绘图\n",
    "analyser1 = ExperimentAnalyser()\n",
    "\n",
    "analyser1.add_method(method_name='DW', method_results=StateIOContainer_DW)\n",
    "analyser1.add_method(method_name='GD', method_results=StateIOContainer_GD)\n",
    "analyser1.add_method(method_name='Unc(Lc)', method_results=StateIOContainer_Unc_LC)\n",
    "analyser1.add_method(method_name='Unc(En)', method_results=StateIOContainer_Unc_Entropy)\n",
    "analyser1.add_method(method_name='Unc(Ma)', method_results=StateIOContainer_Unc_Margin)\n",
    "#analyser1.add_method(method_name='Rnd', method_results=StateIOContainer_Rnd)\n",
    "analyser1.add_method(method_name='QBC', method_results=StateIOContainer_QBC)\n",
    "analyser1.add_method(method_name='ERR', method_results=StateIOContainer_ERR)\n",
    "analyser1.add_method(method_name='QUIRE', method_results=StateIOContainer_QUIRE)\n",
    "\n",
    "plt_Ada=analyser1.plot_learning_curves(title='PHEME - Ada',show=False,saving_path=\"./PHEME_Ada.pdf\")\n",
    "plt_Ada.ylim(0.52, 0.71)\n",
    "plt_Ada.legend([])\n",
    "#plt_Ada.axhline(y=0.903, color='darkgray', linestyle='--', label='Horizontal Line')\n",
    "plt_Ada.show()\n",
    "\n"
   ]
  },
  {
   "cell_type": "code",
   "execution_count": null,
   "id": "6d555996",
   "metadata": {},
   "outputs": [],
   "source": []
  }
 ],
 "metadata": {
  "kernelspec": {
   "display_name": "Python 3 (ipykernel)",
   "language": "python",
   "name": "python3"
  },
  "language_info": {
   "codemirror_mode": {
    "name": "ipython",
    "version": 3
   },
   "file_extension": ".py",
   "mimetype": "text/x-python",
   "name": "python",
   "nbconvert_exporter": "python",
   "pygments_lexer": "ipython3",
   "version": "3.9.0"
  }
 },
 "nbformat": 4,
 "nbformat_minor": 5
}
